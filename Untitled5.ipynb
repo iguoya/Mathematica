{
 "cells": [
  {
   "cell_type": "code",
   "execution_count": null,
   "id": "2dad699c",
   "metadata": {},
   "outputs": [],
   "source": [
    "ParametricPlot[{3Cos[t], Sin[t]}, {t, 0,2Pi}];"
   ]
  },
  {
   "cell_type": "code",
   "execution_count": null,
   "id": "51d118d7",
   "metadata": {},
   "outputs": [],
   "source": []
  }
 ],
 "metadata": {
  "kernelspec": {
   "display_name": "Wolfram Language 13",
   "language": "Wolfram Language",
   "name": "wolframlanguage13"
  }
 },
 "nbformat": 4,
 "nbformat_minor": 5
}
