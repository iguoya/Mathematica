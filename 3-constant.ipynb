{
 "cells": [
  {
   "cell_type": "code",
   "execution_count": 1,
   "id": "4ce8513a",
   "metadata": {},
   "outputs": [
    {
     "data": {
      "text/html": [
       "<div><img alt=\"Output\" src=\"data:image/png;base64,iVBORw0KGgoAAAANSUhEUgAAAAsAAAAWCAIAAACZhvE0AAAA0HpUWHRSYXcgcHJvZmlsZSB0eXBlIGV4aWYAAHjabU/BEcMwCPt7io6AwRb2OE7j3HWDjl+IaXvpVbkgWRHEpPl8HOnm4EypVG3oABlKL52HiUYLizP1sy5swfnqp4zwh1n1+wEz/O3qa+S5/QwiXkL8D6alREMMEl5+HnGhyPNo7TrovUYA9Ln633MRZVRkLVYLkyq66ZZMGqEyVcWBO2DBjJ2p3I0nVK0N6gkZ3ujgqdf0TBAzdl9B/GUZxmKVpVurP0OyVKsixJud25nxdV5PXlqw1heS1AAAAAlwSFlzAAAOxAAADsQBlSsOGwAAADx0RVh0U29mdHdhcmUAQ3JlYXRlZCB3aXRoIHRoZSBXb2xmcmFtIExhbmd1YWdlIDogd3d3LndvbGZyYW0uY29tXKKmhQAAACF0RVh0Q3JlYXRpb24gVGltZQAyMDIyOjAzOjI5IDAwOjE1OjMw2p97YgAAAMRJREFUKJHlUjEKg0AQnE2usBIEGzvB0gdobesLtPQLvkUsrQS/IIiVjV/xBBE74dwUR5RYpA+ZanZ2lp2FJWbGVzy+t//OIQA0TdN1nZRymibf9wH0fR9FERGVZQl+o6qqtm01T5Lk1K8t4ziGYQhAKSWEuOdg5nmeTdMEIKV0HOfuGIYhCALNl2WxLOvDwcxFUWRZpiXDMLZtu45h5jzP67o+ox3HEcexUkqXT9u2Pc9L0/ScIaJ939d1dV0XAP3MB70AeONzszHARVQAAAAASUVORK5CYII=\"></div>"
      ],
      "text/plain": [
       "Pi"
      ]
     },
     "execution_count": 1,
     "metadata": {
      "text/html": [],
      "text/plain": []
     },
     "output_type": "execute_result"
    }
   ],
   "source": [
    "Pi"
   ]
  },
  {
   "cell_type": "code",
   "execution_count": 2,
   "id": "50c1d1e6",
   "metadata": {},
   "outputs": [
    {
     "data": {
      "text/html": [
       "<div><img alt=\"Output\" src=\"data:image/png;base64,iVBORw0KGgoAAAANSUhEUgAAAAsAAAAWCAIAAACZhvE0AAAA0HpUWHRSYXcgcHJvZmlsZSB0eXBlIGV4aWYAAHjabU/BEcMwCPt7io6AwRb2OE7j3HWDjl+IaXvpVbkgWRHEpPl8HOnm4EypVG3oABlKL52HiUYLizP1sy5swfnqp4zwh1n1+wEz/O3qa+S5/QwiXkL8D6alREMMEl5+HnGhyPNo7TrovUYA9Ln633MRZVRkLVYLkyq66ZZMGqEyVcWBO2DBjJ2p3I0nVK0N6gkZ3ujgqdf0TBAzdl9B/GUZxmKVpVurP0OyVKsi4M3O7cz4Oi9Pvlq2oEBdBQAAAAlwSFlzAAAOxAAADsQBlSsOGwAAADx0RVh0U29mdHdhcmUAQ3JlYXRlZCB3aXRoIHRoZSBXb2xmcmFtIExhbmd1YWdlIDogd3d3LndvbGZyYW0uY29tXKKmhQAAACF0RVh0Q3JlYXRpb24gVGltZQAyMDIyOjAzOjI5IDAwOjE1OjM2M/zeVwAAAO5JREFUKJHlUqGqhFAU9D7tRoNiEYxisJlNfoSKiMUsKDY/wR8Q/AObWAxWi6jNcKuowWIwnA13cR8bNjxe20kDZzhzzjAIAKiP+Pk8/joFc7N1Xeu6Ps9TURRN09535Hnuum4Yhvu+N01j2/ZxHE8JALRta1lWHMdlWQIAAPR973ke4RQAOI6DMdZ1HX7BNE1CGIqilmURRRFjHATBbS9J0utSnuenaRIEIcsyhND7M8TVMIwoioqiuF3meSYEkX5UVZWm6TiOvu+zLDsMgyzLSZLQNI3uBl3X1XXdtm0cx6mqyjDPqF6Kv6f+H4oH93OSt0J00H4AAAAASUVORK5CYII=\"></div>"
      ],
      "text/plain": [
       "E"
      ]
     },
     "execution_count": 2,
     "metadata": {
      "text/html": [],
      "text/plain": []
     },
     "output_type": "execute_result"
    }
   ],
   "source": [
    "E"
   ]
  },
  {
   "cell_type": "code",
   "execution_count": 3,
   "id": "5ad7acaf",
   "metadata": {},
   "outputs": [
    {
     "data": {
      "text/html": [
       "<div><pre style=\"&#102;&#111;&#110;&#116;&#45;&#102;&#97;&#109;&#105;&#108;&#121;&#58;&#32;&#34;&#67;&#111;&#117;&#114;&#105;&#101;&#114;&#32;&#78;&#101;&#119;&#34;&#44;&#67;&#111;&#117;&#114;&#105;&#101;&#114;&#44;&#109;&#111;&#110;&#111;&#115;&#112;&#97;&#99;&#101;&#59;\">&#51;&#46;&#49;&#52;&#49;&#53;&#57;&#50;&#54;&#53;&#51;&#53;&#56;&#57;&#55;&#57;&#51;&#50;&#51;&#56;&#52;&#54;&#50;&#54;&#52;&#51;&#51;&#56;&#51;&#50;&#55;&#57;&#53;&#48;&#50;&#56;&#56;&#52;&#49;&#57;&#55;&#49;&#54;&#57;&#51;&#57;&#57;&#51;&#55;&#53;&#49;</pre></div>"
      ],
      "text/plain": [
       "3.1415926535897932384626433832795028841971693993751"
      ]
     },
     "execution_count": 3,
     "metadata": {
      "text/html": [],
      "text/plain": []
     },
     "output_type": "execute_result"
    }
   ],
   "source": [
    "N[Pi,50]"
   ]
  },
  {
   "cell_type": "code",
   "execution_count": 4,
   "id": "a7ea5404",
   "metadata": {},
   "outputs": [
    {
     "data": {
      "text/html": [
       "<div><pre style=\"&#102;&#111;&#110;&#116;&#45;&#102;&#97;&#109;&#105;&#108;&#121;&#58;&#32;&#34;&#67;&#111;&#117;&#114;&#105;&#101;&#114;&#32;&#78;&#101;&#119;&#34;&#44;&#67;&#111;&#117;&#114;&#105;&#101;&#114;&#44;&#109;&#111;&#110;&#111;&#115;&#112;&#97;&#99;&#101;&#59;\">&#48;&#46;&#54;&#57;&#51;&#49;&#52;&#55;&#49;&#56;&#48;&#53;&#53;&#57;&#57;&#52;&#53;&#51;&#48;&#57;&#52;&#49;&#55;&#50;&#51;&#50;&#49;&#50;&#49;&#52;&#53;&#56;&#49;&#55;&#54;&#53;&#54;&#56;&#48;&#55;&#53;&#53;&#48;&#48;&#49;&#51;&#52;&#51;&#54;&#48;&#50;&#53;&#53;&#50;&#53;&#52;&#49;&#50;&#48;&#54;&#56;&#48;&#48;&#48;&#57;&#52;&#57;&#51;&#51;&#57;&#51;&#54;&#50;&#49;&#57;&#54;&#57;&#54;&#57;&#52;&#55;&#49;&#53;&#54;&#48;&#53;&#56;&#54;&#92;&#10;&#32;&#10;&#62;&#32;&#32;&#32;&#51;&#51;&#50;&#54;&#57;&#57;&#54;&#52;&#49;&#56;&#54;&#56;&#55;&#53;&#52;&#50;&#48;&#48;&#49;&#52;&#56;&#49;&#48;&#50;&#48;&#53;&#55;&#48;&#54;&#56;&#53;&#55;&#51;&#51;&#54;&#56;&#53;&#53;&#50;&#48;&#50;&#51;&#53;&#55;&#53;&#56;&#49;&#51;&#48;&#53;&#53;&#55;&#48;&#51;&#50;&#54;&#55;&#48;&#55;&#53;&#49;&#54;&#51;&#53;&#48;&#55;&#53;&#57;&#54;&#49;&#57;&#51;&#48;&#55;&#50;&#55;&#53;&#55;&#48;&#56;&#50;&#56;&#51;&#55;&#92;&#10;&#32;&#10;&#62;&#32;&#32;&#32;&#49;&#52;&#51;&#53;&#49;&#57;&#48;&#51;&#48;&#55;&#48;&#51;&#56;&#54;&#50;&#51;&#56;&#57;&#49;&#54;&#55;&#51;&#52;&#55;&#49;&#49;&#50;&#51;&#51;&#53;&#48;&#49;&#49;&#53;&#51;&#54;&#52;&#52;&#57;&#55;&#57;&#53;&#53;&#50;&#51;&#57;&#49;&#50;&#48;&#52;&#55;&#53;&#49;&#55;&#50;&#54;&#56;&#49;&#53;&#55;&#52;&#57;&#51;&#50;&#48;&#54;&#53;&#49;&#53;&#53;&#53;&#50;&#52;&#55;&#51;&#52;&#49;&#51;&#57;&#53;&#50;&#53;&#56;&#56;&#92;&#10;&#32;&#10;&#62;&#32;&#32;&#32;&#50;&#57;&#53;&#48;&#52;&#53;&#51;&#48;&#48;&#55;&#48;&#57;&#53;&#51;&#50;&#54;&#51;&#54;&#54;&#54;&#52;&#50;&#54;&#53;&#52;&#49;&#48;&#52;&#50;&#51;&#57;&#49;&#53;&#55;&#56;&#49;&#52;&#57;&#53;&#50;&#48;&#52;&#51;&#55;&#52;&#48;&#52;&#51;&#48;&#51;&#56;&#53;&#53;&#48;&#48;&#56;&#48;&#49;&#57;&#52;&#52;&#49;&#55;&#48;&#54;&#52;&#49;&#54;&#55;&#49;&#53;&#49;&#56;&#54;&#52;&#52;&#55;&#49;&#50;&#56;&#51;&#57;&#57;&#54;&#92;&#10;&#32;&#10;&#62;&#32;&#32;&#32;&#56;&#49;&#55;&#49;&#55;&#56;&#52;&#53;&#52;&#54;&#57;&#53;&#55;&#48;&#50;&#54;&#50;&#55;&#49;&#54;&#51;&#49;&#48;&#54;&#52;&#53;&#52;&#54;&#49;&#53;&#48;&#50;&#53;&#55;&#50;&#48;&#55;&#52;&#48;&#50;&#52;&#56;&#49;&#54;&#51;&#55;&#55;&#55;&#51;&#51;&#56;&#57;&#54;&#51;&#56;&#53;&#53;&#48;&#54;&#57;&#53;&#50;&#54;&#48;&#54;&#54;&#56;&#51;&#52;&#49;&#49;&#51;&#55;&#50;&#55;&#51;&#56;&#55;&#51;&#55;&#50;&#50;&#57;&#50;&#92;&#10;&#32;&#10;&#62;&#32;&#32;&#32;&#56;&#57;&#53;&#54;&#52;&#57;&#51;&#53;&#52;&#55;&#48;&#50;&#53;&#55;&#54;&#50;&#54;&#53;&#50;&#48;&#57;&#56;&#56;&#53;&#57;&#54;&#57;&#51;&#50;&#48;&#49;&#57;&#54;&#53;&#48;&#53;&#56;&#53;&#53;&#52;&#55;&#54;&#52;&#55;&#48;&#51;&#51;&#48;&#54;&#55;&#57;&#51;&#54;&#53;&#52;&#52;&#51;&#50;&#53;&#52;&#55;&#54;&#51;&#50;&#55;&#52;&#52;&#57;&#53;&#49;&#50;&#53;&#48;&#52;&#48;&#54;&#48;&#54;&#57;&#52;&#51;&#56;&#49;&#52;&#92;&#10;&#32;&#10;&#62;&#32;&#32;&#32;&#55;&#49;&#48;&#52;&#54;&#56;&#57;&#57;&#52;&#54;&#53;&#48;&#54;&#50;&#50;&#48;&#49;&#54;&#55;&#55;&#50;&#48;&#52;&#50;&#52;&#53;&#50;&#52;&#53;&#50;&#57;&#54;&#49;&#50;&#54;&#56;&#55;&#57;&#52;&#54;&#53;&#52;&#54;&#49;&#57;&#51;&#49;&#54;&#53;&#49;&#55;&#52;&#54;&#56;&#49;&#51;&#57;&#50;&#54;&#55;&#50;&#53;&#48;&#52;&#49;&#48;&#51;&#56;&#48;&#50;&#53;&#52;&#54;&#50;&#53;&#57;&#54;&#53;&#54;&#56;&#54;&#57;&#49;&#52;&#92;&#10;&#32;&#10;&#62;&#32;&#32;&#32;&#52;&#49;&#57;&#50;&#56;&#55;&#49;&#54;&#48;&#56;&#50;&#57;&#51;&#56;&#48;&#51;&#49;&#55;&#50;&#55;&#49;&#52;&#51;&#54;&#55;&#55;&#56;&#50;&#54;&#53;&#52;&#56;&#55;&#55;&#53;&#54;&#54;&#52;&#56;&#53;&#48;&#56;&#53;&#54;&#55;&#52;&#48;&#55;&#55;&#54;&#52;&#56;&#52;&#53;&#49;&#52;&#54;&#52;&#52;&#51;&#57;&#57;&#52;&#48;&#52;&#54;&#49;&#52;&#50;&#50;&#54;&#48;&#51;&#49;&#57;&#51;&#48;&#57;&#54;&#55;&#51;&#53;&#52;&#48;&#92;&#10;&#32;&#10;&#62;&#32;&#32;&#32;&#50;&#53;&#55;&#52;&#52;&#52;&#54;&#48;&#55;&#48;&#51;&#48;&#56;&#48;&#57;&#54;&#48;&#56;&#53;&#48;&#52;&#55;&#52;&#56;&#54;&#54;&#51;&#56;&#53;&#50;&#51;&#49;&#51;&#56;&#49;&#56;&#49;&#54;&#55;&#54;&#55;&#53;&#49;&#52;&#51;&#56;&#54;&#54;&#55;&#52;&#55;&#54;&#54;&#52;&#55;&#56;&#57;&#48;&#56;&#56;&#49;&#52;&#51;&#55;&#49;&#52;&#49;&#57;&#56;&#53;&#52;&#57;&#52;&#50;&#51;&#49;&#53;&#49;&#57;&#57;&#55;&#51;&#53;&#52;&#92;&#10;&#32;&#10;&#62;&#32;&#32;&#32;&#56;&#56;&#48;&#51;&#55;&#53;&#49;&#54;&#53;&#56;&#54;&#49;&#50;&#55;&#53;&#51;&#53;&#50;&#57;&#49;&#54;&#54;&#49;&#48;&#48;&#48;&#55;&#49;&#48;&#53;&#51;&#53;&#53;&#56;&#50;&#52;&#57;&#56;&#55;&#57;&#52;&#49;&#52;&#55;&#50;&#57;&#53;&#48;&#57;&#50;&#57;&#51;&#49;&#49;&#51;&#56;&#57;&#55;&#49;&#53;&#53;&#57;&#57;&#56;&#50;&#48;&#53;&#54;&#53;&#52;&#51;&#57;&#50;&#56;&#55;&#49;&#55;&#48;&#48;&#48;&#55;&#50;&#49;&#56;&#92;&#10;&#32;&#10;&#62;&#32;&#32;&#32;&#48;&#56;&#53;&#55;&#54;&#49;&#48;&#50;&#53;&#50;&#51;&#54;&#56;&#56;&#57;&#50;&#49;&#51;&#50;&#52;&#52;&#57;&#55;&#49;&#51;&#56;&#57;&#51;&#50;&#48;&#51;&#55;&#56;&#52;&#51;&#57;&#51;&#53;&#51;&#48;&#56;&#56;&#55;&#55;&#52;&#56;&#50;&#53;&#57;&#55;&#48;&#49;&#55;&#49;&#53;&#53;&#57;&#49;&#48;&#55;&#48;&#56;&#56;&#50;&#51;&#54;&#56;&#51;&#54;&#50;&#55;&#53;&#56;&#57;&#56;&#52;&#50;&#53;&#56;&#57;&#49;&#56;&#53;&#51;&#92;&#10;&#32;&#10;&#62;&#32;&#32;&#32;&#53;&#51;&#48;&#50;&#52;&#51;&#54;&#51;&#52;&#50;&#49;&#52;&#51;&#54;&#55;&#48;&#54;&#49;&#49;&#56;&#57;&#50;&#51;&#54;&#55;&#56;&#57;&#49;&#57;&#50;&#51;&#55;&#50;&#51;&#49;&#52;&#54;&#55;&#50;&#51;&#50;&#49;&#55;&#50;&#48;&#53;&#51;&#52;&#48;&#49;&#54;&#52;&#57;&#50;&#53;&#54;&#56;&#55;&#50;&#55;&#52;&#55;&#55;&#56;&#50;&#51;&#52;&#52;&#53;&#51;&#53;&#51;&#52;&#55;&#54;&#52;&#56;&#49;&#49;&#52;&#57;&#52;&#49;&#56;&#92;&#10;&#32;&#10;&#62;&#32;&#32;&#32;&#54;&#52;&#50;&#51;&#56;&#54;&#55;&#55;&#54;&#55;&#55;&#52;&#52;&#49;</pre></div>"
      ],
      "text/plain": [
       "0.69314718055994530941723212145817656807550013436025525412068000949339362196969471560586\\\n",
       " \n",
       ">   332699641868754200148102057068573368552023575813055703267075163507596193072757082837\\\n",
       " \n",
       ">   143519030703862389167347112335011536449795523912047517268157493206515552473413952588\\\n",
       " \n",
       ">   295045300709532636664265410423915781495204374043038550080194417064167151864471283996\\\n",
       " \n",
       ">   817178454695702627163106454615025720740248163777338963855069526066834113727387372292\\\n",
       " \n",
       ">   895649354702576265209885969320196505855476470330679365443254763274495125040606943814\\\n",
       " \n",
       ">   710468994650622016772042452452961268794654619316517468139267250410380254625965686914\\\n",
       " \n",
       ">   419287160829380317271436778265487756648508567407764845146443994046142260319309673540\\\n",
       " \n",
       ">   257444607030809608504748663852313818167675143866747664789088143714198549423151997354\\\n",
       " \n",
       ">   880375165861275352916610007105355824987941472950929311389715599820565439287170007218\\\n",
       " \n",
       ">   085761025236889213244971389320378439353088774825970171559107088236836275898425891853\\\n",
       " \n",
       ">   530243634214367061189236789192372314672321720534016492568727477823445353476481149418\\\n",
       " \n",
       ">   64238677677441"
      ]
     },
     "execution_count": 4,
     "metadata": {
      "text/html": [],
      "text/plain": []
     },
     "output_type": "execute_result"
    }
   ],
   "source": [
    "N[Log[2],1024]"
   ]
  },
  {
   "cell_type": "code",
   "execution_count": 5,
   "id": "f60ede65",
   "metadata": {},
   "outputs": [
    {
     "data": {
      "text/html": [
       "<div><img alt=\"Output\" src=\"data:image/png;base64,iVBORw0KGgoAAAANSUhEUgAAAD4AAAAWCAIAAAAXXLhIAAAA03pUWHRSYXcgcHJvZmlsZSB0eXBlIGV4aWYAAHjabU9bcsQgDPvnFD2CHyDDccguO9Mb9PiVE9pOOqtM/BCSwWV9fb7KR8JUSm3RMQAh6qjDJosuF66sMs54wtc+0ztfFJufpNrfAbZBjzsfW2/93yCxfVPewNrrNuxBbhev8+qPrbfZ+33QzxobkN+nv+2rh6FBozJWkwgM1r2wZEIzaYEXHgCFiqdJfTAvRNCGSIXPNCZsxV29CpzEM1fw/M0nszOaD1rzm64OxsbHHOz7qcl1vgFY4VrAZRghCwAAAAlwSFlzAAAOxAAADsQBlSsOGwAAADx0RVh0U29mdHdhcmUAQ3JlYXRlZCB3aXRoIHRoZSBXb2xmcmFtIExhbmd1YWdlIDogd3d3LndvbGZyYW0uY29tXKKmhQAAACF0RVh0Q3JlYXRpb24gVGltZQAyMDIyOjAzOjI5IDAwOjE2OjU3ABTmqQAAA39JREFUWIXtV11I6mAY3sacbVFamUalaIZdRTf9iGBCBRURBBUR3iaNCNPAopvqIiLIIPAiKShI6aIlgdEfhFciUVGwoBuvFkYMhSjIgtKdi3F2PBo6+zkRnOdqz/u97/c9e79n3zaQYRjgZwL6bgHvx3/p34GfL72tra2np+ffLx+Lxex2u0ajEQqFarXa6XTyPzbgL1WWiKGhIQRBAACw2+0wDAMAwDBMZ2cnSZKTk5Nqtdrv94+MjDw/P1ssFq7K6/X6fL5IJDI8PKzVav+akWEYhmFaW1u7u7uZr4TRaEwNbm5u3tzccNRmsymVytQ0l8u1v7+fFOTl9VAoZDQaCwsLMQxrbm4+Pj5OHH15eZmamlIqlRAEgb9RWVnJZ+be3t7S0lKO1tXVURT1+vrKpzaz9HA4rNPpzs/PFxcX3W43DMMGgyEQCHAJ4+PjKysrTqfz6uqqr69PJpOtr68vLCzwWT4JwWBQoVCwdsoMtvlpDGM2m/Py8sLhMEtjsVhtbW19fT1L4/E4iqIOh4Ol0WgUQRCfz8fTMIl4fHyUy+UzMzOfZpjd3d2uri6JRMJSCIJMJtPJyQlN01yOUChkLxAEgWH47u4u64YDgNVqxTBsdHSUZ35m6TRNKxSKxIhcLmfjAACAIDg4ODg/P0+S5MPDw9jYGIZhjY2N2ep2OBwbGxsEQaAo+mnSi4uLQ6FQYoSlUqmUpe3t7dFotKOjo7y8nCTJw8NDbot4wuVy2Wy2ra2t6urqLMoyet1qtYpEokgkwnm9oaFBq9VyCSqV6ujoKL2P03jd7Xbn5ORsb2+nqX3T63+eZZqmDw4OEu9Kp9Pl5+dPT097PB69Xj8xMZGbm7u8vHxxcZF4PgoEgtXVVQiCUBQFQVAsFqtUKvbtkxFra2sDAwNms1kikfj9fjYolUo1Gk0WXU8dOj09ZUevr6/7+/vFYjGKok1NTYFAIPHul5aWMAwTCARcYUFBAUEQfLoOgmDquqmZb3YdSLNNfECSpEwmoyiKpfF4/Pb2tqWlpaamho90nshgmPdhb2+voqKCO4JAECwpKSkrK3t6evrgzBnx0Y9evV5/dnY2NzdHUdT9/f3l5aXFYiEIYnZ2NikTwzAcx3Ec5/meZ+HxeHAc93q9IpEoeezdm8hhZ2fHYDAUFRWhKFpVVWUymYLB4MenzQiQ+bG/1b8AmRuDpjafELgAAAAASUVORK5CYII=\"></div>"
      ],
      "text/plain": [
       "Log[2]"
      ]
     },
     "execution_count": 5,
     "metadata": {
      "text/html": [],
      "text/plain": []
     },
     "output_type": "execute_result"
    }
   ],
   "source": [
    "Log[2]"
   ]
  },
  {
   "cell_type": "code",
   "execution_count": 6,
   "id": "43f25767",
   "metadata": {},
   "outputs": [
    {
     "data": {
      "text/html": [
       "<div><pre style=\"&#102;&#111;&#110;&#116;&#45;&#102;&#97;&#109;&#105;&#108;&#121;&#58;&#32;&#34;&#67;&#111;&#117;&#114;&#105;&#101;&#114;&#32;&#78;&#101;&#119;&#34;&#44;&#67;&#111;&#117;&#114;&#105;&#101;&#114;&#44;&#109;&#111;&#110;&#111;&#115;&#112;&#97;&#99;&#101;&#59;\">&#52;&#46;&#54;&#48;&#53;&#49;&#55;</pre></div>"
      ],
      "text/plain": [
       "4.60517"
      ]
     },
     "execution_count": 6,
     "metadata": {
      "text/html": [],
      "text/plain": []
     },
     "output_type": "execute_result"
    }
   ],
   "source": [
    "N[Log[100]]"
   ]
  },
  {
   "cell_type": "code",
   "execution_count": 7,
   "id": "2a5e8c98",
   "metadata": {},
   "outputs": [
    {
     "data": {
      "text/html": [
       "<div><img alt=\"Output\" src=\"data:image/png;base64,iVBORw0KGgoAAAANSUhEUgAAAAsAAAAWCAIAAACZhvE0AAAA0HpUWHRSYXcgcHJvZmlsZSB0eXBlIGV4aWYAAHjabU/BEcMwCPt7io6AwRb2OE7j3HWDjl+IaXvpVbkgWRHEpPl8HOnm4EypVG3oABlKL52HiUYLizP1sy5swfnqp4zwh1n1+wEz/O3qa+S5/QwiXkL8D6alREMMEl5+HnGhyPNo7TrovUYA9Ln633MRZVRkLVYLkyq66ZZMGqEyVcWBO2DBjJ2p3I0nVK0N6gkZ3ujgqdf0TBAzdl9B/GUZxmKVpVurP0OyNKsizJud25nxdV5PwFq1FcLAvAAAAAlwSFlzAAAOxAAADsQBlSsOGwAAADx0RVh0U29mdHdhcmUAQ3JlYXRlZCB3aXRoIHRoZSBXb2xmcmFtIExhbmd1YWdlIDogd3d3LndvbGZyYW0uY29tXKKmhQAAACF0RVh0Q3JlYXRpb24gVGltZQAyMDIyOjAzOjI5IDAwOjE4OjMyxvvCkwAAAO5JREFUKJHlUqGqhFAU9D7tRoNiEYxisJlNfoSKiMUsKDY/wR8Q/AObWAxWi6jNcKuowWIwnA13cR8bNjxe20kDZzhzzjAIAKiP+Pk8/joFc7N1Xeu6Ps9TURRN09535Hnuum4Yhvu+N01j2/ZxHE8JALRta1lWHMdlWQIAAPR973ke4RQAOI6DMdZ1HX7BNE1CGIqilmURRRFjHATBbS9J0utSnuenaRIEIcsyhND7M8TVMIwoioqiuF3meSYEkX5UVZWm6TiOvu+zLDsMgyzLSZLQNI3uBl3X1XXdtm0cx6mqyjDPqF6Kv6f+H4oH93OSt0J00H4AAAAASUVORK5CYII=\"></div>"
      ],
      "text/plain": [
       "E"
      ]
     },
     "execution_count": 7,
     "metadata": {
      "text/html": [],
      "text/plain": []
     },
     "output_type": "execute_result"
    }
   ],
   "source": [
    "E"
   ]
  },
  {
   "cell_type": "code",
   "execution_count": 8,
   "id": "42cbf4a0",
   "metadata": {},
   "outputs": [
    {
     "data": {
      "text/html": [
       "<div><img alt=\"Output\" src=\"data:image/png;base64,iVBORw0KGgoAAAANSUhEUgAAAAsAAAAWCAIAAACZhvE0AAAA0XpUWHRSYXcgcHJvZmlsZSB0eXBlIGV4aWYAAHjabU/BEcMwCPt7io6AwRb2OE7j3HWDjl+IaXvpVbkgWRHEpPl8HOnm4EypVG3oABlKL52HiUYLizP1sy5swfnqp4zwh1n1+wEz/O3qa+S5/QwiXkL8D6alREMMEl5+HnGhyPNo7TrovUYA9Ln633MRZVRkLVYLkyq66ZZMGqEyVcWBO2DBjJ2p3I0nVK0N6gkZ3ujgqdf0TBAzdl9B/GUZxmKVpVurP0OyNKsilTc7tzPj67wAT/BauD11bg0AAAAJcEhZcwAADsQAAA7EAZUrDhsAAAA8dEVYdFNvZnR3YXJlAENyZWF0ZWQgd2l0aCB0aGUgV29sZnJhbSBMYW5ndWFnZSA6IHd3dy53b2xmcmFtLmNvbVyipoUAAAAhdEVYdENyZWF0aW9uIFRpbWUAMjAyMjowMzoyOSAwMDoxODozNVifVzAAAACASURBVCiRY/z//z8DXsCEX3pgVPz58+f79+/4VCxYsMDT0xOfCgkJCV1dXTQVjATDgwVCtba2Pn78GMKOj4+3tLREKPmPBOLj47dv3z5//nxkwUEZplgBCwMDw9evX8vLyxkYGE6ePPnu3btv376dOXPG0NAwOTmZgZgQGyx+AQDz8EX49UpX5wAAAABJRU5ErkJggg==\"></div>"
      ],
      "text/plain": [
       "I"
      ]
     },
     "execution_count": 8,
     "metadata": {
      "text/html": [],
      "text/plain": []
     },
     "output_type": "execute_result"
    }
   ],
   "source": [
    "I"
   ]
  },
  {
   "cell_type": "code",
   "execution_count": 9,
   "id": "f97f8068",
   "metadata": {},
   "outputs": [
    {
     "data": {
      "text/html": [
       "<div><img alt=\"Output\" src=\"data:image/png;base64,iVBORw0KGgoAAAANSUhEUgAAAAsAAAAWCAIAAACZhvE0AAAA0XpUWHRSYXcgcHJvZmlsZSB0eXBlIGV4aWYAAHjabU9BksMwCLv7FX0CBizs5ziNO7M/2OcXanY76VSZIFkRxJT1+/MotwBXKtqsYwDk0KGDp4tOG5srjVfdOJLr1S8V6U+32vsDVvrH1bfMc/8YRLyFxB9ci2ZDDhLefp15oczz7P066G+NBOj/6l/PKsZoqKZelckMw3UvLp3QmJrhgTvgwYqTSe/OC2beBouEzGgM8LJrehWIG2esIPGyTGfxyjK8NZ4pVbpXFeLDz/2ViXWeT7JatA2szg4AAAAJcEhZcwAADsQAAA7EAZUrDhsAAAA8dEVYdFNvZnR3YXJlAENyZWF0ZWQgd2l0aCB0aGUgV29sZnJhbSBMYW5ndWFnZSA6IHd3dy53b2xmcmFtLmNvbVyipoUAAAAhdEVYdENyZWF0aW9uIFRpbWUAMjAyMjowMzoyOSAwMDoxODo0MGe0NXgAAACASURBVCiR7ZCxDUMhDETBympQITEBLEHJIoiOcaD1Fkzg7lIkcVL8fCVNqlx1kp/vLFsA5lR0Pv4ZcVHHzL13IgohOOeeCAAAe++cs4gAqLWutfDQnRhjzDlvXkRKKUrQa9LxIdqSUjpssbrKzK01Y0yM0XuvEfZt+Of/+BPfElffWXF4LgRYkwAAAABJRU5ErkJggg==\"></div>"
      ],
      "text/plain": [
       "Degree"
      ]
     },
     "execution_count": 9,
     "metadata": {
      "text/html": [],
      "text/plain": []
     },
     "output_type": "execute_result"
    }
   ],
   "source": [
    "Degree"
   ]
  },
  {
   "cell_type": "code",
   "execution_count": 10,
   "id": "3b5c29d9",
   "metadata": {},
   "outputs": [
    {
     "data": {
      "text/html": [
       "<div><img alt=\"Output\" src=\"data:image/png;base64,iVBORw0KGgoAAAANSUhEUgAAAAwAAAAWCAIAAAB7WupNAAAA0HpUWHRSYXcgcHJvZmlsZSB0eXBlIGV4aWYAAHjabU/BEcMwCPt7io6AwRb2OE7i3nWDjl+IaXvpVbkgWRYkpPl83NPNwZlSqdrQATKUXjoPE40WFmfqZ13Yg/PVTxnhD7Pq9wIz/O3qa+S5/QwiXkL8C6alREMMEl5+Huu8RZ5Ha9dB7zUCoM+v/z0XUUZF1mK1MKmim27JpBEqU1XcsQMWzDiYym48oWptUE/I8EYHT72mZ4KYcfgK4i/LMBarLN1a/RmSpZ8+82a1ndrXeQFRGVq0pzNJlAAAAAlwSFlzAAAOxAAADsQBlSsOGwAAADx0RVh0U29mdHdhcmUAQ3JlYXRlZCB3aXRoIHRoZSBXb2xmcmFtIExhbmd1YWdlIDogd3d3LndvbGZyYW0uY29tXKKmhQAAACF0RVh0Q3JlYXRpb24gVGltZQAyMDIyOjAzOjI5IDAwOjE5OjAyVWr2NQAAANBJREFUKJHtkrHKRWAcxv9Hr2JgFVdiY2Ww6F0MFpciMijlLRcilyIWySAlYUXynkGf9Xzz6Tzb7+lXz/K8KKXwKcxH4yf9W0IAME0TIWSeZ4yxruvjOGZZtiyLaZqGYcBt2Lbddd22bWEYBkFgWVbTNMdxpGlKCKGUgu/7VVXRv2iaVpblg47jXNfFrOsqSdIzryiKLMsPiqK47zuDMU6S5K7quh6GIYqiG9u2Pc+T4zikqmrf957nsSzL83xRFHmeu64rCAJCKI5jAHh99Z/ekqRwRZLOWosAAAAASUVORK5CYII=\"></div>"
      ],
      "text/plain": [
       "Infinity"
      ]
     },
     "execution_count": 10,
     "metadata": {
      "text/html": [],
      "text/plain": []
     },
     "output_type": "execute_result"
    }
   ],
   "source": [
    "Infinity"
   ]
  },
  {
   "cell_type": "code",
   "execution_count": null,
   "id": "960bddae",
   "metadata": {},
   "outputs": [],
   "source": []
  }
 ],
 "metadata": {
  "kernelspec": {
   "display_name": "Wolfram Language 13",
   "language": "Wolfram Language",
   "name": "wolframlanguage13"
  },
  "language_info": {
   "codemirror_mode": "mathematica",
   "file_extension": ".m",
   "mimetype": "application/vnd.wolfram.m",
   "name": "Wolfram Language",
   "pygments_lexer": "mathematica",
   "version": "12.0"
  }
 },
 "nbformat": 4,
 "nbformat_minor": 5
}
